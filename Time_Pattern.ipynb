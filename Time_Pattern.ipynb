{
  "nbformat": 4,
  "nbformat_minor": 0,
  "metadata": {
    "colab": {
      "name": "Time Pattern.ipynb",
      "provenance": [],
      "mount_file_id": "1XXj6Dor6gY__QdfxbJwPqzCZae6TuaYu",
      "authorship_tag": "ABX9TyMm1skoGIRIDyvkUS43LVAY",
      "include_colab_link": true
    },
    "kernelspec": {
      "name": "python3",
      "display_name": "Python 3"
    }
  },
  "cells": [
    {
      "cell_type": "markdown",
      "metadata": {
        "id": "view-in-github",
        "colab_type": "text"
      },
      "source": [
        "<a href=\"https://colab.research.google.com/github/yuxuan0702/Boston-Crime-/blob/master/Time_Pattern.ipynb\" target=\"_parent\"><img src=\"https://colab.research.google.com/assets/colab-badge.svg\" alt=\"Open In Colab\"/></a>"
      ]
    },
    {
      "cell_type": "code",
      "metadata": {
        "id": "jHCMJjGF8E6m",
        "colab_type": "code",
        "colab": {}
      },
      "source": [
        "# import packages \n",
        "import pandas as pd \n",
        "import numpy as np \n",
        "import matplotlib.pyplot as plt \n",
        "import matplotlib.patches as mpatches\n",
        "import matplotlib.lines as mlines\n",
        "import seaborn as sns \n",
        "import folium\n",
        "from folium import plugins\n",
        "from folium.plugins import HeatMap\n",
        "from folium.plugins import MarkerCluster\n",
        "\n",
        "\n",
        "plt.style.use('ggplot')\n",
        "%matplotlib inline"
      ],
      "execution_count": 0,
      "outputs": []
    },
    {
      "cell_type": "code",
      "metadata": {
        "id": "rKMOEWGN8MqE",
        "colab_type": "code",
        "colab": {
          "base_uri": "https://localhost:8080/",
          "height": 360
        },
        "outputId": "3f3f7a30-1255-43b5-acd6-a10244b6d1c8"
      },
      "source": [
        "# import dataset \n",
        "df = pd.read_csv('/content/drive/My Drive/Website_notebook/boston_crime.csv')\n",
        "df.head()"
      ],
      "execution_count": 4,
      "outputs": [
        {
          "output_type": "stream",
          "text": [
            "/usr/local/lib/python3.6/dist-packages/IPython/core/interactiveshell.py:2718: DtypeWarning: Columns (2,6,12) have mixed types.Specify dtype option on import or set low_memory=False.\n",
            "  interactivity=interactivity, compiler=compiler, result=result)\n"
          ],
          "name": "stderr"
        },
        {
          "output_type": "execute_result",
          "data": {
            "text/html": [
              "<div>\n",
              "<style scoped>\n",
              "    .dataframe tbody tr th:only-of-type {\n",
              "        vertical-align: middle;\n",
              "    }\n",
              "\n",
              "    .dataframe tbody tr th {\n",
              "        vertical-align: top;\n",
              "    }\n",
              "\n",
              "    .dataframe thead th {\n",
              "        text-align: right;\n",
              "    }\n",
              "</style>\n",
              "<table border=\"1\" class=\"dataframe\">\n",
              "  <thead>\n",
              "    <tr style=\"text-align: right;\">\n",
              "      <th></th>\n",
              "      <th>INCIDENT_NUMBER</th>\n",
              "      <th>OFFENSE_CODE</th>\n",
              "      <th>OFFENSE_CODE_GROUP</th>\n",
              "      <th>OFFENSE_DESCRIPTION</th>\n",
              "      <th>DISTRICT</th>\n",
              "      <th>REPORTING_AREA</th>\n",
              "      <th>SHOOTING</th>\n",
              "      <th>OCCURRED_ON_DATE</th>\n",
              "      <th>YEAR</th>\n",
              "      <th>MONTH</th>\n",
              "      <th>DAY_OF_WEEK</th>\n",
              "      <th>HOUR</th>\n",
              "      <th>UCR_PART</th>\n",
              "      <th>STREET</th>\n",
              "      <th>Lat</th>\n",
              "      <th>Long</th>\n",
              "      <th>Location</th>\n",
              "    </tr>\n",
              "  </thead>\n",
              "  <tbody>\n",
              "    <tr>\n",
              "      <th>0</th>\n",
              "      <td>TESTTEST2</td>\n",
              "      <td>423</td>\n",
              "      <td>NaN</td>\n",
              "      <td>ASSAULT - AGGRAVATED</td>\n",
              "      <td>External</td>\n",
              "      <td></td>\n",
              "      <td>0</td>\n",
              "      <td>2019-10-16 00:00:00</td>\n",
              "      <td>2019</td>\n",
              "      <td>10</td>\n",
              "      <td>Wednesday</td>\n",
              "      <td>0</td>\n",
              "      <td>NaN</td>\n",
              "      <td>RIVERVIEW DR</td>\n",
              "      <td>NaN</td>\n",
              "      <td>NaN</td>\n",
              "      <td>(0.00000000, 0.00000000)</td>\n",
              "    </tr>\n",
              "    <tr>\n",
              "      <th>1</th>\n",
              "      <td>I92102201</td>\n",
              "      <td>3301</td>\n",
              "      <td>NaN</td>\n",
              "      <td>VERBAL DISPUTE</td>\n",
              "      <td>E13</td>\n",
              "      <td>583</td>\n",
              "      <td>0</td>\n",
              "      <td>2019-12-20 03:08:00</td>\n",
              "      <td>2019</td>\n",
              "      <td>12</td>\n",
              "      <td>Friday</td>\n",
              "      <td>3</td>\n",
              "      <td>NaN</td>\n",
              "      <td>DAY ST</td>\n",
              "      <td>42.325122</td>\n",
              "      <td>-71.107779</td>\n",
              "      <td>(42.32512200, -71.10777900)</td>\n",
              "    </tr>\n",
              "    <tr>\n",
              "      <th>2</th>\n",
              "      <td>I92097173</td>\n",
              "      <td>3115</td>\n",
              "      <td>NaN</td>\n",
              "      <td>INVESTIGATE PERSON</td>\n",
              "      <td>C11</td>\n",
              "      <td>355</td>\n",
              "      <td>0</td>\n",
              "      <td>2019-10-23 00:00:00</td>\n",
              "      <td>2019</td>\n",
              "      <td>10</td>\n",
              "      <td>Wednesday</td>\n",
              "      <td>0</td>\n",
              "      <td>NaN</td>\n",
              "      <td>GIBSON ST</td>\n",
              "      <td>42.297555</td>\n",
              "      <td>-71.059709</td>\n",
              "      <td>(42.29755500, -71.05970900)</td>\n",
              "    </tr>\n",
              "    <tr>\n",
              "      <th>3</th>\n",
              "      <td>I92094519</td>\n",
              "      <td>3126</td>\n",
              "      <td>NaN</td>\n",
              "      <td>WARRANT ARREST - OUTSIDE OF BOSTON WARRANT</td>\n",
              "      <td>D14</td>\n",
              "      <td>765</td>\n",
              "      <td>0</td>\n",
              "      <td>2019-11-22 07:50:00</td>\n",
              "      <td>2019</td>\n",
              "      <td>11</td>\n",
              "      <td>Friday</td>\n",
              "      <td>7</td>\n",
              "      <td>NaN</td>\n",
              "      <td>BROOKS ST</td>\n",
              "      <td>42.355120</td>\n",
              "      <td>-71.162678</td>\n",
              "      <td>(42.35512000, -71.16267800)</td>\n",
              "    </tr>\n",
              "    <tr>\n",
              "      <th>4</th>\n",
              "      <td>I92089785</td>\n",
              "      <td>3005</td>\n",
              "      <td>NaN</td>\n",
              "      <td>SICK ASSIST</td>\n",
              "      <td>E13</td>\n",
              "      <td>574</td>\n",
              "      <td>0</td>\n",
              "      <td>2019-11-05 18:00:00</td>\n",
              "      <td>2019</td>\n",
              "      <td>11</td>\n",
              "      <td>Tuesday</td>\n",
              "      <td>18</td>\n",
              "      <td>NaN</td>\n",
              "      <td>WASHINGTON ST</td>\n",
              "      <td>42.309718</td>\n",
              "      <td>-71.104294</td>\n",
              "      <td>(42.30971800, -71.10429400)</td>\n",
              "    </tr>\n",
              "  </tbody>\n",
              "</table>\n",
              "</div>"
            ],
            "text/plain": [
              "  INCIDENT_NUMBER  OFFENSE_CODE  ...       Long                     Location\n",
              "0       TESTTEST2           423  ...        NaN     (0.00000000, 0.00000000)\n",
              "1       I92102201          3301  ... -71.107779  (42.32512200, -71.10777900)\n",
              "2       I92097173          3115  ... -71.059709  (42.29755500, -71.05970900)\n",
              "3       I92094519          3126  ... -71.162678  (42.35512000, -71.16267800)\n",
              "4       I92089785          3005  ... -71.104294  (42.30971800, -71.10429400)\n",
              "\n",
              "[5 rows x 17 columns]"
            ]
          },
          "metadata": {
            "tags": []
          },
          "execution_count": 4
        }
      ]
    },
    {
      "cell_type": "code",
      "metadata": {
        "id": "0i5-EkFW8PeB",
        "colab_type": "code",
        "colab": {
          "base_uri": "https://localhost:8080/",
          "height": 391
        },
        "outputId": "ac4450bf-da68-4cd5-a451-fb69d08c3f75"
      },
      "source": [
        "# clean data \n",
        "df.drop(columns=['INCIDENT_NUMBER','SHOOTING'],inplace=True)\n",
        "df = df[(df.YEAR!=2015) & (df.YEAR !=2020)]\n",
        "df = df[df['DISTRICT']!='External']\n",
        "df['OCCURRED_ON_DATE'] = pd.to_datetime(df['OCCURRED_ON_DATE'])\n",
        "df['OCCURRED_ON_DATE']=df['OCCURRED_ON_DATE'].dt.date\n",
        "df.info()"
      ],
      "execution_count": 5,
      "outputs": [
        {
          "output_type": "stream",
          "text": [
            "<class 'pandas.core.frame.DataFrame'>\n",
            "Int64Index: 398013 entries, 1 to 480712\n",
            "Data columns (total 15 columns):\n",
            " #   Column               Non-Null Count   Dtype  \n",
            "---  ------               --------------   -----  \n",
            " 0   OFFENSE_CODE         398013 non-null  int64  \n",
            " 1   OFFENSE_CODE_GROUP   373242 non-null  object \n",
            " 2   OFFENSE_DESCRIPTION  398013 non-null  object \n",
            " 3   DISTRICT             395842 non-null  object \n",
            " 4   REPORTING_AREA       398013 non-null  object \n",
            " 5   OCCURRED_ON_DATE     398013 non-null  object \n",
            " 6   YEAR                 398013 non-null  int64  \n",
            " 7   MONTH                398013 non-null  int64  \n",
            " 8   DAY_OF_WEEK          398013 non-null  object \n",
            " 9   HOUR                 398013 non-null  int64  \n",
            " 10  UCR_PART             373134 non-null  object \n",
            " 11  STREET               384433 non-null  object \n",
            " 12  Lat                  372484 non-null  float64\n",
            " 13  Long                 372484 non-null  float64\n",
            " 14  Location             398013 non-null  object \n",
            "dtypes: float64(2), int64(4), object(9)\n",
            "memory usage: 48.6+ MB\n"
          ],
          "name": "stdout"
        }
      ]
    },
    {
      "cell_type": "code",
      "metadata": {
        "id": "m-sfa-z78XYj",
        "colab_type": "code",
        "colab": {
          "base_uri": "https://localhost:8080/",
          "height": 299
        },
        "outputId": "9a2d49e0-0cf5-4f14-93c0-84d9d8ece9e0"
      },
      "source": [
        "# year distribution \n",
        "sns.countplot(data = df, x = 'YEAR',palette='rainbow')\n",
        "plt.title('Year Distribution of the Inccidents ')\n",
        "plt.show()"
      ],
      "execution_count": 6,
      "outputs": [
        {
          "output_type": "display_data",
          "data": {
            "image/png": "[encoded data removed]",
            "text/plain": [
              "<Figure size 432x288 with 1 Axes>"
            ]
          },
          "metadata": {
            "tags": [],
            "needs_background": "light"
          }
        }
      ]
    },
    {
      "cell_type": "code",
      "metadata": {
        "id": "5zTCkqZD8ZiY",
        "colab_type": "code",
        "colab": {
          "base_uri": "https://localhost:8080/",
          "height": 282
        },
        "outputId": "5864b1d7-3356-4950-ffee-5dedd6f2956f"
      },
      "source": [
        "# month distribution data \n",
        "Month = ['Dec','Jan','Feb','Mar','Apr','May','Jun','Jul','Aug','Sep','Oct','Nov']\n",
        "month_count = [31128,31549,28695,32093,31867,35098,35093,35483,36337,34665,34476,31529]\n",
        "color = ['steelblue','steelblue','steelblue','seagreen','seagreen','seagreen','tomato','tomato','tomato','orange','orange','orange']\n",
        "\n",
        "# month distribution plot \n",
        "fig, ax = plt.subplots()\n",
        "ax.bar(Month,month_count,color=color)\n",
        "\n",
        "#set title and y axis range \n",
        "plt.ylim(0,45000)\n",
        "plt.title('The month distribution of incidents')\n",
        "\n",
        "# set legend \n",
        "color = ['steelblue','seagreen','tomato','orange']\n",
        "labels = ['winter', 'spring', 'summer', 'autumn']\n",
        "patches = [ mpatches.Patch(color=color[i], label=\"{:s}\".format(labels[i]) ) for i in range(len(color)) ] \n",
        "ax.legend(handles = patches, ncol = 4)\n",
        "plt.show()"
      ],
      "execution_count": 7,
      "outputs": [
        {
          "output_type": "display_data",
          "data": {
            "image/png": "[encoded data removed]",
            "text/plain": [
              "<Figure size 432x288 with 1 Axes>"
            ]
          },
          "metadata": {
            "tags": [],
            "needs_background": "light"
          }
        }
      ]
    },
    {
      "cell_type": "code",
      "metadata": {
        "id": "7d8JrSyN8cBZ",
        "colab_type": "code",
        "colab": {
          "base_uri": "https://localhost:8080/",
          "height": 282
        },
        "outputId": "79549205-06c1-4571-bf19-9e890af89c81"
      },
      "source": [
        "# Week data \n",
        "week = ['Mon','Tue','Wed','Thur','Fri','Sat','Sun']\n",
        "number_of_incidents = [57019,57465,58310,57999,60745,56133,50395]\n",
        "\n",
        "# Plot week distribution \n",
        "fig, ax = plt.subplots()\n",
        "ax.bar(week,number_of_incidents,color=['steelblue','steelblue','steelblue','steelblue','steelblue','coral','coral'])\n",
        "\n",
        "#set title and y axis range \n",
        "plt.title('The week distribution of incidents')\n",
        "plt.ylim(0,70000)\n",
        "\n",
        "# set legend \n",
        "color = ['steelblue','coral']\n",
        "labels = ['Weekday', 'Weekend']\n",
        "patches = [ mpatches.Patch(color=color[i], label=\"{:s}\".format(labels[i]) ) for i in range(len(color)) ] \n",
        "ax.legend(handles = patches, ncol = 2,loc='upper center')\n",
        "plt.show()"
      ],
      "execution_count": 8,
      "outputs": [
        {
          "output_type": "display_data",
          "data": {
            "image/png": "[encoded data removed]",
            "text/plain": [
              "<Figure size 432x288 with 1 Axes>"
            ]
          },
          "metadata": {
            "tags": [],
            "needs_background": "light"
          }
        }
      ]
    },
    {
      "cell_type": "code",
      "metadata": {
        "id": "eDAB3aNB8ehH",
        "colab_type": "code",
        "colab": {
          "base_uri": "https://localhost:8080/",
          "height": 282
        },
        "outputId": "8aa3da90-2ed8-478f-c615-487dd5b2bb6f"
      },
      "source": [
        "# hour data \n",
        "hour = df['HOUR'].value_counts()\n",
        "hour = hour.sort_index()\n",
        "color = ['steelblue','steelblue','steelblue','steelblue','steelblue','coral','coral','coral','coral','coral','coral','coral','coral','coral','coral','coral','coral','coral','coral','coral','steelblue','steelblue','steelblue','steelblue']\n",
        "\n",
        "# hour distribution plot \n",
        "fig, ax = plt.subplots()\n",
        "ax.bar(hour.index,hour,color = color,label = 'After Work Hour')\n",
        "\n",
        "#set title and y axis range \n",
        "plt.title('The hour of day distribution')\n",
        "plt.ylim(0,30000)\n",
        "\n",
        "# set legend \n",
        "color = ['steelblue','coral']\n",
        "labels = ['Afterwork', 'Work hour']\n",
        "patches = [ mpatches.Patch(color=color[i], label=\"{:s}\".format(labels[i]) ) for i in range(len(color)) ] \n",
        "ax.legend(handles = patches, ncol = 2,loc='upper center')\n",
        "plt.show()"
      ],
      "execution_count": 9,
      "outputs": [
        {
          "output_type": "display_data",
          "data": {
            "image/png": "[encoded data removed]",
            "text/plain": [
              "<Figure size 432x288 with 1 Axes>"
            ]
          },
          "metadata": {
            "tags": [],
            "needs_background": "light"
          }
        }
      ]
    },
    {
      "cell_type": "code",
      "metadata": {
        "id": "glx0H5ES8gvk",
        "colab_type": "code",
        "colab": {
          "base_uri": "https://localhost:8080/",
          "height": 299
        },
        "outputId": "635ec37e-042b-459a-b143-78665cd7b761"
      },
      "source": [
        "# Time plot \n",
        "df.groupby('OCCURRED_ON_DATE')[['OFFENSE_CODE']].count().plot(color='steelblue')\n",
        "\n",
        "# decoration \n",
        "plt.ylim(100,450)\n",
        "plt.legend().set_visible(False)\n",
        "plt.title('Time Pattern of the number of inccident')\n",
        "plt.show()"
      ],
      "execution_count": 10,
      "outputs": [
        {
          "output_type": "display_data",
          "data": {
            "image/png": "[encoded data removed]",
            "text/plain": [
              "<Figure size 432x288 with 1 Axes>"
            ]
          },
          "metadata": {
            "tags": [],
            "needs_background": "light"
          }
        }
      ]
    },
    {
      "cell_type": "markdown",
      "metadata": {
        "id": "8QxnrwVD8k6y",
        "colab_type": "text"
      },
      "source": [
        "Time Pattern : \n",
        "\n",
        "- Clear Time Seasonality Pattern\n",
        "- No clear Trend decreasing \n",
        "- **Hour** : More often during the work hour \n",
        "- **Week** : More often in Weekday than weekend \n",
        "- **Month** : Less in winter "
      ]
    }
  ]
}